{
 "cells": [
  {
   "cell_type": "code",
   "execution_count": 87,
   "id": "c95f362a-dcd5-4828-aa41-9c6e6a73e92d",
   "metadata": {},
   "outputs": [
    {
     "name": "stdin",
     "output_type": "stream",
     "text": [
      "Enter the first number:  5\n",
      "Enter the second number:  78\n",
      "Enter the third number:  9\n"
     ]
    },
    {
     "name": "stdout",
     "output_type": "stream",
     "text": [
      "The sum of the three numbers is: 92.0\n",
      "The average of the three numbers is: 30.666666666666668\n"
     ]
    }
   ],
   "source": [
    "#1\n",
    "# Program to calculate the sum and average of three float numbers\n",
    "num1 = float(input(\"Enter the first number: \"))\n",
    "num2 = float(input(\"Enter the second number: \"))\n",
    "num3 = float(input(\"Enter the third number: \"))\n",
    "\n",
    "\n",
    "sum_numbers = num1 + num2 + num3\n",
    "\n",
    "\n",
    "average = sum_numbers / 3\n",
    "\n",
    "\n",
    "print(f\"The sum of the three numbers is: {sum_numbers}\")\n",
    "print(f\"The average of the three numbers is: {average}\")\n"
   ]
  },
  {
   "cell_type": "code",
   "execution_count": 7,
   "id": "88253659-03c9-4343-b69f-8f3c3919a39e",
   "metadata": {},
   "outputs": [
    {
     "name": "stdout",
     "output_type": "stream",
     "text": [
      "The volume of the sphere is: 904.78 cubic centimeters\n"
     ]
    }
   ],
   "source": [
    "#2\n",
    "import math\n",
    "\n",
    "radius = 6\n",
    "volume = (4/3) * math.pi * (radius ** 3)\n",
    "\n",
    "print(f\"The volume of the sphere is: {volume:.2f} cubic centimeters\")\n"
   ]
  },
  {
   "cell_type": "code",
   "execution_count": 9,
   "id": "2c5f9148-b54c-4302-bebf-028f08ba2fd6",
   "metadata": {},
   "outputs": [
    {
     "name": "stdin",
     "output_type": "stream",
     "text": [
      "Enter the radius of the circle:  8\n"
     ]
    },
    {
     "name": "stdout",
     "output_type": "stream",
     "text": [
      "The area of the circle with radius 8.0 is: 201.06 square units\n"
     ]
    }
   ],
   "source": [
    "#3 \n",
    "import math\n",
    "\n",
    "radius = float(input(\"Enter the radius of the circle: \"))\n",
    "area = math.pi * (radius ** 2)\n",
    "\n",
    "print(f\"The area of the circle with radius {radius} is: {area:.2f} square units\")\n"
   ]
  },
  {
   "cell_type": "code",
   "execution_count": 11,
   "id": "5f548f45-54d5-4440-a629-f48e1edfe332",
   "metadata": {},
   "outputs": [
    {
     "name": "stdin",
     "output_type": "stream",
     "text": [
      "Enter the principal amount:  5\n",
      "Enter the rate of interest:  8\n",
      "Enter the time period in years:  9\n"
     ]
    },
    {
     "name": "stdout",
     "output_type": "stream",
     "text": [
      "The simple interest is: 3.60\n"
     ]
    }
   ],
   "source": [
    "#4\n",
    "principal = float(input(\"Enter the principal amount: \"))\n",
    "rate = float(input(\"Enter the rate of interest: \"))\n",
    "time = float(input(\"Enter the time period in years: \"))\n",
    "\n",
    "simple_interest = (principal * rate * time) / 100\n",
    "\n",
    "print(f\"The simple interest is: {simple_interest:.2f}\")\n"
   ]
  },
  {
   "cell_type": "code",
   "execution_count": 13,
   "id": "f387d41c-1d91-4ead-bf9e-b1b200b57d1b",
   "metadata": {},
   "outputs": [
    {
     "name": "stdin",
     "output_type": "stream",
     "text": [
      "Enter the first number:  5\n",
      "Enter the second number:  8\n"
     ]
    },
    {
     "name": "stdout",
     "output_type": "stream",
     "text": [
      "After swapping: num1 = 8.0, num2 = 5.0\n"
     ]
    }
   ],
   "source": [
    "#5\n",
    "num1 = float(input(\"Enter the first number: \"))\n",
    "num2 = float(input(\"Enter the second number: \"))\n",
    "\n",
    "num1, num2 = num2, num1\n",
    "\n",
    "print(f\"After swapping: num1 = {num1}, num2 = {num2}\")\n"
   ]
  },
  {
   "cell_type": "code",
   "execution_count": 15,
   "id": "012873b9-fcfe-40c5-9586-36c23e15955b",
   "metadata": {},
   "outputs": [
    {
     "name": "stdin",
     "output_type": "stream",
     "text": [
      "Enter temperature in Celsius:  80\n"
     ]
    },
    {
     "name": "stdout",
     "output_type": "stream",
     "text": [
      "80.0 degree Celsius is equal to 176.00 degree Fahrenheit\n"
     ]
    }
   ],
   "source": [
    "#6\n",
    "celsius = float(input(\"Enter temperature in Celsius: \"))\n",
    "fahrenheit = (celsius * 1.8) + 32\n",
    "\n",
    "print(f\"{celsius} degree Celsius is equal to {fahrenheit:.2f} degree Fahrenheit\")\n",
    "\n"
   ]
  },
  {
   "cell_type": "code",
   "execution_count": 17,
   "id": "c8baf049-fb22-4920-a8d9-f1e203232983",
   "metadata": {},
   "outputs": [
    {
     "name": "stdin",
     "output_type": "stream",
     "text": [
      "Enter the number of days:  7\n"
     ]
    },
    {
     "name": "stdout",
     "output_type": "stream",
     "text": [
      "7 days is equal to 0 years, 0 months, 1 weeks, and 0 days.\n"
     ]
    }
   ],
   "source": [
    "#7\n",
    "days = int(input(\"Enter the number of days: \"))\n",
    "\n",
    "years = days // 365\n",
    "remaining_days = days % 365\n",
    "months = remaining_days // 30\n",
    "remaining_days %= 30\n",
    "weeks = remaining_days // 7\n",
    "remaining_days %= 7\n",
    "\n",
    "print(f\"{days} days is equal to {years} years, {months} months, {weeks} weeks, and {remaining_days} days.\")\n"
   ]
  },
  {
   "cell_type": "code",
   "execution_count": 19,
   "id": "f30172e0-6a26-47bb-bbde-348b3ebe796b",
   "metadata": {},
   "outputs": [
    {
     "name": "stdin",
     "output_type": "stream",
     "text": [
      "Enter the mass of the first object (in kg):  10\n",
      "Enter the mass of the second object (in kg):  8\n",
      "Enter the distance between the centers of the masses (in meters):  9\n"
     ]
    },
    {
     "name": "stdout",
     "output_type": "stream",
     "text": [
      "The gravitational force between the objects is: 6.59e-11 N\n"
     ]
    }
   ],
   "source": [
    "#8\n",
    "m1 = float(input(\"Enter the mass of the first object (in kg): \"))\n",
    "m2 = float(input(\"Enter the mass of the second object (in kg): \"))\n",
    "r = float(input(\"Enter the distance between the centers of the masses (in meters): \"))\n",
    "\n",
    "G = 6.673 * (10 ** -11)\n",
    "force = (G * m1 * m2) / (r ** 2)\n",
    "\n",
    "print(f\"The gravitational force between the objects is: {force:.2e} N\")\n"
   ]
  },
  {
   "cell_type": "code",
   "execution_count": 21,
   "id": "4283f836-d4cb-4d10-9bb2-76e3d9473e8f",
   "metadata": {},
   "outputs": [
    {
     "name": "stdin",
     "output_type": "stream",
     "text": [
      "Enter a number:  7\n"
     ]
    },
    {
     "name": "stdout",
     "output_type": "stream",
     "text": [
      "7 is Odd\n"
     ]
    }
   ],
   "source": [
    "#9\n",
    "num = int(input(\"Enter a number: \"))\n",
    "\n",
    "if num % 2 == 0:\n",
    "    print(f\"{num} is Even\")\n",
    "else:\n",
    "    print(f\"{num} is Odd\")\n"
   ]
  },
  {
   "cell_type": "code",
   "execution_count": 23,
   "id": "3a87ebdf-3c22-422c-9c2a-d907d71e26fb",
   "metadata": {},
   "outputs": [
    {
     "name": "stdin",
     "output_type": "stream",
     "text": [
      "Enter a number:  20\n"
     ]
    },
    {
     "name": "stdout",
     "output_type": "stream",
     "text": [
      "The result is: 10\n"
     ]
    }
   ],
   "source": [
    "#10\n",
    "num = int(input(\"Enter a number: \"))\n",
    "\n",
    "if num > 15:\n",
    "    result = 2 * (num - 15)\n",
    "else:\n",
    "    result = 4 * (15 - num)\n",
    "\n",
    "print(f\"The result is: {result}\")\n",
    "\n"
   ]
  },
  {
   "cell_type": "code",
   "execution_count": 31,
   "id": "a6ebc92d-82dc-4b5e-a782-eb427791c92c",
   "metadata": {},
   "outputs": [
    {
     "name": "stdin",
     "output_type": "stream",
     "text": [
      "Enter the first number:  10\n",
      "Enter the second number:  9\n",
      "Enter the third number:  8\n"
     ]
    },
    {
     "name": "stdout",
     "output_type": "stream",
     "text": [
      "The largest number is:  10.0\n"
     ]
    }
   ],
   "source": [
    "#11\n",
    "num1 = float(input(\"Enter the first number: \"))\n",
    "num2 = float(input(\"Enter the second number: \"))\n",
    "num3 = float(input(\"Enter the third number: \"))\n",
    "\n",
    "if num1 >= num2 and num1 >= num3:\n",
    "    largest = num1\n",
    "elif num2 >= num1 and num2 >= num3:\n",
    "    largest = num2\n",
    "else:\n",
    "    largest = num3\n",
    "\n",
    "print(\"The largest number is: \",largest)\n"
   ]
  },
  {
   "cell_type": "code",
   "execution_count": 35,
   "id": "2b49323b-e18e-47cc-a2c4-c16dd8767096",
   "metadata": {},
   "outputs": [
    {
     "name": "stdin",
     "output_type": "stream",
     "text": [
      "Enter the first side:  7\n",
      "Enter the second side:  7\n",
      "Enter the third side:  5\n"
     ]
    },
    {
     "name": "stdout",
     "output_type": "stream",
     "text": [
      "Isosceles triangle\n"
     ]
    }
   ],
   "source": [
    "#12\n",
    "side1 = float(input(\"Enter the first side: \"))\n",
    "side2 = float(input(\"Enter the second side: \"))\n",
    "side3 = float(input(\"Enter the third side: \"))\n",
    "\n",
    "if side1 == side2 == side3:\n",
    "    print(\"Equilateral triangle\")\n",
    "elif side1 == side2 or side2 == side3 or side3 == side1:\n",
    "    print(\"Isosceles triangle\")\n",
    "else:\n",
    "    print(\"Scalene triangle\")\n"
   ]
  },
  {
   "cell_type": "code",
   "execution_count": 37,
   "id": "d84c5a83-5113-4de9-8801-c95c90cb6df3",
   "metadata": {},
   "outputs": [
    {
     "name": "stdin",
     "output_type": "stream",
     "text": [
      "Enter a year:  2024\n"
     ]
    },
    {
     "name": "stdout",
     "output_type": "stream",
     "text": [
      "2024 is a leap year\n"
     ]
    }
   ],
   "source": [
    "#13\n",
    "year = int(input(\"Enter a year: \"))\n",
    "\n",
    "if (year % 4 == 0 and year % 100 != 0) or (year % 400 == 0):\n",
    "    print(year, \"is a leap year\")\n",
    "else:\n",
    "    print(year, \"is not a leap year\")\n"
   ]
  },
  {
   "cell_type": "code",
   "execution_count": 39,
   "id": "cb35085b-4e9f-4a40-89b9-0a3818c6a23a",
   "metadata": {},
   "outputs": [
    {
     "name": "stdin",
     "output_type": "stream",
     "text": [
      "Enter marks for the first subject:  80\n",
      "Enter marks for the second subject:  75\n",
      "Enter marks for the third subject:  90\n",
      "Enter marks for the fourth subject:  52\n"
     ]
    },
    {
     "name": "stdout",
     "output_type": "stream",
     "text": [
      "The average marks are: 74.25\n",
      "The grade is: B\n"
     ]
    }
   ],
   "source": [
    "#14\n",
    "mark1 = float(input(\"Enter marks for the first subject: \"))\n",
    "mark2 = float(input(\"Enter marks for the second subject: \"))\n",
    "mark3 = float(input(\"Enter marks for the third subject: \"))\n",
    "mark4 = float(input(\"Enter marks for the fourth subject: \"))\n",
    "\n",
    "average = (mark1 + mark2 + mark3 + mark4) / 4\n",
    "\n",
    "if average >= 75:\n",
    "    grade = 'A'\n",
    "elif average >= 60:\n",
    "    grade = 'B'\n",
    "elif average >= 40:\n",
    "    grade = 'C'\n",
    "else:\n",
    "    grade = 'D'\n",
    "\n",
    "print(\"The average marks are:\", average)\n",
    "print(\"The grade is:\", grade)\n"
   ]
  },
  {
   "cell_type": "code",
   "execution_count": 41,
   "id": "96c050c9-3b17-4179-a7c4-3d03e35638fb",
   "metadata": {},
   "outputs": [
    {
     "name": "stdout",
     "output_type": "stream",
     "text": [
      "Select operation:\n",
      "1. Add\n",
      "2. Subtract\n",
      "3. Multiply\n",
      "4. Divide\n"
     ]
    },
    {
     "name": "stdin",
     "output_type": "stream",
     "text": [
      "Enter choice (1/2/3/4):  3\n",
      "Enter first number:  8\n",
      "Enter second number:  65\n"
     ]
    },
    {
     "name": "stdout",
     "output_type": "stream",
     "text": [
      "Result: 520.0\n"
     ]
    }
   ],
   "source": [
    "#15\n",
    "def add(x, y):\n",
    "    return x + y\n",
    "\n",
    "def subtract(x, y):\n",
    "    return x - y\n",
    "\n",
    "def multiply(x, y):\n",
    "    return x * y\n",
    "\n",
    "def divide(x, y):\n",
    "    return x / y\n",
    "\n",
    "print(\"Select operation:\")\n",
    "print(\"1. Add\")\n",
    "print(\"2. Subtract\")\n",
    "print(\"3. Multiply\")\n",
    "print(\"4. Divide\")\n",
    "\n",
    "choice = input(\"Enter choice (1/2/3/4): \")\n",
    "\n",
    "num1 = float(input(\"Enter first number: \"))\n",
    "num2 = float(input(\"Enter second number: \"))\n",
    "\n",
    "if choice == '1':\n",
    "    print(\"Result:\", add(num1, num2))\n",
    "elif choice == '2':\n",
    "    print(\"Result:\", subtract(num1, num2))\n",
    "elif choice == '3':\n",
    "    print(\"Result:\", multiply(num1, num2))\n",
    "elif choice == '4':\n",
    "    print(\"Result:\", divide(num1, num2))\n",
    "else:\n",
    "    print(\"Invalid input\")\n"
   ]
  },
  {
   "cell_type": "code",
   "execution_count": 43,
   "id": "93098854-05f0-4b88-ba25-6857460f7a2b",
   "metadata": {},
   "outputs": [
    {
     "name": "stdin",
     "output_type": "stream",
     "text": [
      "Enter coefficient a:  4\n",
      "Enter coefficient b:  8\n",
      "Enter coefficient c:  2\n"
     ]
    },
    {
     "name": "stdout",
     "output_type": "stream",
     "text": [
      "The roots of the quadratic equation are: (-1.7071067811865475+0j) and (-0.2928932188134524+0j)\n"
     ]
    }
   ],
   "source": [
    "#16\n",
    "import cmath\n",
    "\n",
    "a = float(input(\"Enter coefficient a: \"))\n",
    "b = float(input(\"Enter coefficient b: \"))\n",
    "c = float(input(\"Enter coefficient c: \"))\n",
    "\n",
    "d = (b**2) - (4*a*c)\n",
    "\n",
    "root1 = (-b - cmath.sqrt(d)) / (2*a)\n",
    "root2 = (-b + cmath.sqrt(d)) / (2*a)\n",
    "\n",
    "print(\"The roots of the quadratic equation are:\", root1, \"and\", root2)\n"
   ]
  },
  {
   "cell_type": "code",
   "execution_count": 45,
   "id": "722648fb-14b8-42ac-bce5-9eb9bec19e74",
   "metadata": {},
   "outputs": [
    {
     "name": "stdin",
     "output_type": "stream",
     "text": [
      "Enter a number:  15\n"
     ]
    },
    {
     "name": "stdout",
     "output_type": "stream",
     "text": [
      "1\n",
      "2\n",
      "3\n",
      "4\n",
      "5\n",
      "6\n",
      "7\n",
      "8\n",
      "9\n",
      "10\n",
      "11\n",
      "12\n",
      "13\n",
      "14\n",
      "15\n"
     ]
    }
   ],
   "source": [
    "#17\n",
    "n = int(input(\"Enter a number: \"))\n",
    "\n",
    "for i in range(1, n + 1):\n",
    "    print(i)\n"
   ]
  },
  {
   "cell_type": "code",
   "execution_count": 47,
   "id": "712942f0-84ac-4bf7-94cc-5f0d98bf0e3c",
   "metadata": {},
   "outputs": [
    {
     "name": "stdin",
     "output_type": "stream",
     "text": [
      "Enter a number:  12\n"
     ]
    },
    {
     "name": "stdout",
     "output_type": "stream",
     "text": [
      "The sum of natural numbers up to 12 is: 78\n"
     ]
    }
   ],
   "source": [
    "#18\n",
    "n = int(input(\"Enter a number: \"))\n",
    "\n",
    "sum_natural = n * (n + 1) // 2\n",
    "\n",
    "print(\"The sum of natural numbers up to\", n, \"is:\", sum_natural)\n"
   ]
  },
  {
   "cell_type": "code",
   "execution_count": 49,
   "id": "209d70ff-2467-4e12-a2b0-66674c17fa37",
   "metadata": {},
   "outputs": [
    {
     "name": "stdin",
     "output_type": "stream",
     "text": [
      "Enter a number:  52\n"
     ]
    },
    {
     "name": "stdout",
     "output_type": "stream",
     "text": [
      "The sum of the digits is: 7\n"
     ]
    }
   ],
   "source": [
    "#19\n",
    "num = int(input(\"Enter a number: \"))\n",
    "sum_digits = 0\n",
    "\n",
    "while num > 0:\n",
    "    digit = num % 10\n",
    "    sum_digits += digit\n",
    "    num = num // 10\n",
    "\n",
    "print(\"The sum of the digits is:\", sum_digits)\n"
   ]
  },
  {
   "cell_type": "code",
   "execution_count": 51,
   "id": "12ff0c86-8a31-44ba-80fb-94e025a6b5cc",
   "metadata": {},
   "outputs": [
    {
     "name": "stdin",
     "output_type": "stream",
     "text": [
      "Enter a number:  169\n"
     ]
    },
    {
     "name": "stdout",
     "output_type": "stream",
     "text": [
      "The factors of 169 are:\n",
      "1\n",
      "13\n",
      "169\n"
     ]
    }
   ],
   "source": [
    "#20\n",
    "num = int(input(\"Enter a number: \"))\n",
    "\n",
    "print(\"The factors of\", num, \"are:\")\n",
    "for i in range(1, num + 1):\n",
    "    if num % i == 0:\n",
    "        print(i)\n"
   ]
  },
  {
   "cell_type": "code",
   "execution_count": 53,
   "id": "f822fd81-62b7-4e34-a3b3-e17083f82388",
   "metadata": {},
   "outputs": [
    {
     "name": "stdin",
     "output_type": "stream",
     "text": [
      "Enter a number:  753\n"
     ]
    },
    {
     "name": "stdout",
     "output_type": "stream",
     "text": [
      "The reverse of the number is: 357\n"
     ]
    }
   ],
   "source": [
    "#21\n",
    "num = int(input(\"Enter a number: \"))\n",
    "reverse_num = 0\n",
    "\n",
    "while num > 0:\n",
    "    digit = num % 10\n",
    "    reverse_num = reverse_num * 10 + digit\n",
    "    num = num // 10\n",
    "\n",
    "print(\"The reverse of the number is:\", reverse_num)\n"
   ]
  },
  {
   "cell_type": "code",
   "execution_count": 55,
   "id": "a149ea16-2f9a-4301-8531-47f2d55e82c5",
   "metadata": {},
   "outputs": [
    {
     "name": "stdin",
     "output_type": "stream",
     "text": [
      "Enter a number:  12\n"
     ]
    },
    {
     "name": "stdout",
     "output_type": "stream",
     "text": [
      "The factorial of 12 is: 479001600\n"
     ]
    }
   ],
   "source": [
    "#22\n",
    "num = int(input(\"Enter a number: \"))\n",
    "factorial = 1\n",
    "\n",
    "for i in range(1, num + 1):\n",
    "    factorial *= i\n",
    "\n",
    "print(\"The factorial of\", num, \"is:\", factorial)\n"
   ]
  },
  {
   "cell_type": "code",
   "execution_count": 57,
   "id": "620bb8f5-e745-4b46-bb3d-4aaa63d3e7df",
   "metadata": {},
   "outputs": [
    {
     "name": "stdin",
     "output_type": "stream",
     "text": [
      "Enter a number:  154\n"
     ]
    },
    {
     "name": "stdout",
     "output_type": "stream",
     "text": [
      "154 is not a palindrome\n"
     ]
    }
   ],
   "source": [
    "#23\n",
    "num = int(input(\"Enter a number: \"))\n",
    "original_num = num\n",
    "reverse_num = 0\n",
    "\n",
    "while num > 0:\n",
    "    digit = num % 10\n",
    "    reverse_num = reverse_num * 10 + digit\n",
    "    num = num // 10\n",
    "\n",
    "if original_num == reverse_num:\n",
    "    print(original_num, \"is a palindrome\")\n",
    "else:\n",
    "    print(original_num, \"is not a palindrome\")\n"
   ]
  },
  {
   "cell_type": "code",
   "execution_count": 61,
   "id": "35832eca-18d6-4ad2-91ed-614ccf479ae1",
   "metadata": {},
   "outputs": [
    {
     "name": "stdin",
     "output_type": "stream",
     "text": [
      "Enter a number:  67\n"
     ]
    },
    {
     "name": "stdout",
     "output_type": "stream",
     "text": [
      "67 is a prime number\n"
     ]
    }
   ],
   "source": [
    "#24\n",
    "num = int(input(\"Enter a number: \"))\n",
    "\n",
    "if num > 1:\n",
    "    for i in range(2, int(num ** 0.5) + 1):\n",
    "        if num % i == 0:\n",
    "            print(num, \"is not a prime number\")\n",
    "            break\n",
    "    else:\n",
    "        print(num, \"is a prime number\")\n",
    "else:\n",
    "    print(num, \"is not a prime number\")\n"
   ]
  },
  {
   "cell_type": "code",
   "execution_count": 63,
   "id": "a71996db-58ad-4c45-a2ed-5ea94fa6912c",
   "metadata": {},
   "outputs": [
    {
     "name": "stdin",
     "output_type": "stream",
     "text": [
      "Enter a number:  125\n"
     ]
    },
    {
     "name": "stdout",
     "output_type": "stream",
     "text": [
      "125 is not an Armstrong number\n"
     ]
    }
   ],
   "source": [
    "#25\n",
    "num = int(input(\"Enter a number: \"))\n",
    "order = len(str(num))\n",
    "sum_digits = sum(int(digit) ** order for digit in str(num))\n",
    "\n",
    "if num == sum_digits:\n",
    "    print(num, \"is an Armstrong number\")\n",
    "else:\n",
    "    print(num, \"is not an Armstrong number\")\n"
   ]
  },
  {
   "cell_type": "code",
   "execution_count": 65,
   "id": "177d4bda-22fc-47c9-9106-21a4d85a61b2",
   "metadata": {},
   "outputs": [
    {
     "name": "stdin",
     "output_type": "stream",
     "text": [
      "Enter the number of terms:  8\n"
     ]
    },
    {
     "name": "stdout",
     "output_type": "stream",
     "text": [
      "0 1 1 2 3 5 8 13 "
     ]
    }
   ],
   "source": [
    "#26\n",
    "n = int(input(\"Enter the number of terms: \"))\n",
    "\n",
    "a, b = 0, 1\n",
    "for _ in range(n):\n",
    "    print(a, end=' ')\n",
    "    a, b = b, a + b\n"
   ]
  },
  {
   "cell_type": "code",
   "execution_count": 67,
   "id": "226cd766-0f0e-4b6b-b342-9a04d00f8736",
   "metadata": {},
   "outputs": [
    {
     "name": "stdin",
     "output_type": "stream",
     "text": [
      "Enter a number:  8\n"
     ]
    },
    {
     "name": "stdout",
     "output_type": "stream",
     "text": [
      "Multiplication table for 8\n",
      "8 x 1 = 8\n",
      "8 x 2 = 16\n",
      "8 x 3 = 24\n",
      "8 x 4 = 32\n",
      "8 x 5 = 40\n",
      "8 x 6 = 48\n",
      "8 x 7 = 56\n",
      "8 x 8 = 64\n",
      "8 x 9 = 72\n",
      "8 x 10 = 80\n"
     ]
    }
   ],
   "source": [
    "#27\n",
    "num = int(input(\"Enter a number: \"))\n",
    "\n",
    "print(\"Multiplication table for\", num)\n",
    "for i in range(1, 11):\n",
    "    print(num, \"x\", i, \"=\", num * i)\n"
   ]
  },
  {
   "cell_type": "code",
   "execution_count": 69,
   "id": "09355998-30c5-47af-aef9-ef735e8bc4ad",
   "metadata": {},
   "outputs": [
    {
     "name": "stdin",
     "output_type": "stream",
     "text": [
      "Enter the number of elements:  8\n",
      "Enter element:  5\n",
      "Enter element:  7\n",
      "Enter element:  23\n",
      "Enter element:  55\n",
      "Enter element:  7\n",
      "Enter element:  \n",
      "Enter element:  5\n",
      "Enter element:  554\n"
     ]
    },
    {
     "name": "stdout",
     "output_type": "stream",
     "text": [
      "The list is: ['5', '7', '23', '55', '7', '', '5', '554']\n"
     ]
    }
   ],
   "source": [
    "#28\n",
    "n = int(input(\"Enter the number of elements: \"))\n",
    "user_list = []\n",
    "\n",
    "for i in range(n):\n",
    "    element = input(\"Enter element: \")\n",
    "    user_list.append(element)\n",
    "\n",
    "print(\"The list is:\", user_list)\n"
   ]
  },
  {
   "cell_type": "code",
   "execution_count": 71,
   "id": "40a48745-b9bf-4f40-81e3-b7be91fe171b",
   "metadata": {},
   "outputs": [
    {
     "name": "stdin",
     "output_type": "stream",
     "text": [
      "Enter the number of elements:  5\n",
      "Enter number:  25\n",
      "Enter number:  49\n",
      "Enter number:  66\n",
      "Enter number:  78\n",
      "Enter number:  95\n"
     ]
    },
    {
     "name": "stdout",
     "output_type": "stream",
     "text": [
      "The average of the list is: 62.6\n"
     ]
    }
   ],
   "source": [
    "#29\n",
    "def find_average(numbers):\n",
    "    return sum(numbers) / len(numbers) if numbers else 0\n",
    "\n",
    "numbers = []\n",
    "n = int(input(\"Enter the number of elements: \"))\n",
    "for i in range(n):\n",
    "    num = float(input(\"Enter number: \"))\n",
    "    numbers.append(num)\n",
    "\n",
    "average = find_average(numbers)\n",
    "print(\"The average of the list is:\", average)\n"
   ]
  },
  {
   "cell_type": "code",
   "execution_count": 73,
   "id": "5573dc98-db99-4608-abbb-f86e6dd87ff2",
   "metadata": {},
   "outputs": [
    {
     "name": "stdin",
     "output_type": "stream",
     "text": [
      "Enter the number of elements:  4\n",
      "Enter number:  78\n",
      "Enter number:  159\n",
      "Enter number:  25\n",
      "Enter number:  755\n"
     ]
    },
    {
     "name": "stdout",
     "output_type": "stream",
     "text": [
      "The largest element in the list is: 755.0\n"
     ]
    }
   ],
   "source": [
    "#30\n",
    "def find_largest(numbers):\n",
    "    return max(numbers)\n",
    "\n",
    "numbers = []\n",
    "n = int(input(\"Enter the number of elements: \"))\n",
    "for i in range(n):\n",
    "    num = float(input(\"Enter number: \"))\n",
    "    numbers.append(num)\n",
    "\n",
    "largest = find_largest(numbers)\n",
    "print(\"The largest element in the list is:\", largest)\n"
   ]
  },
  {
   "cell_type": "code",
   "execution_count": 75,
   "id": "5003d256-9866-4bca-8ca3-913f40447496",
   "metadata": {},
   "outputs": [
    {
     "name": "stdin",
     "output_type": "stream",
     "text": [
      "Enter the number of elements:  6\n",
      "Enter number:  74\n",
      "Enter number:  56\n",
      "Enter number:  144\n",
      "Enter number:  198\n",
      "Enter number:  45\n",
      "Enter number:  366\n",
      "Enter the target element:  52\n"
     ]
    },
    {
     "name": "stdout",
     "output_type": "stream",
     "text": [
      "Element not found in the array\n"
     ]
    }
   ],
   "source": [
    "#31\n",
    "def linear_search(arr, target):\n",
    "    for i in range(len(arr)):\n",
    "        if arr[i] == target:\n",
    "            return i\n",
    "    return -1\n",
    "\n",
    "arr = []\n",
    "n = int(input(\"Enter the number of elements: \"))\n",
    "for i in range(n):\n",
    "    num = float(input(\"Enter number: \"))\n",
    "    arr.append(num)\n",
    "\n",
    "target = float(input(\"Enter the target element: \"))\n",
    "result = linear_search(arr, target)\n",
    "\n",
    "if result != -1:\n",
    "    print(\"Element found at index:\", result)\n",
    "else:\n",
    "    print(\"Element not found in the array\")\n"
   ]
  },
  {
   "cell_type": "code",
   "execution_count": 81,
   "id": "c8ee02ac-3a4c-480e-8d9d-800f4e0b8c27",
   "metadata": {},
   "outputs": [
    {
     "name": "stdout",
     "output_type": "stream",
     "text": [
      "Enter lines of text (type 'STOP' to end):\n"
     ]
    },
    {
     "name": "stdin",
     "output_type": "stream",
     "text": [
      " i am dipty\n",
      " this is my python assignment\n",
      " STOP\n"
     ]
    },
    {
     "name": "stdout",
     "output_type": "stream",
     "text": [
      "I AM DIPTY\n",
      "THIS IS MY PYTHON ASSIGNMENT\n"
     ]
    }
   ],
   "source": [
    "#32\n",
    "lines = []\n",
    "print(\"Enter lines of text (type 'STOP' to end):\")\n",
    "while True:\n",
    "    line = input()\n",
    "    if line == 'STOP':\n",
    "        break\n",
    "    lines.append(line.upper())\n",
    "\n",
    "for line in lines:\n",
    "    print(line)\n"
   ]
  },
  {
   "cell_type": "code",
   "execution_count": 83,
   "id": "1a096d58-2ce8-48a8-a168-d1a21489187a",
   "metadata": {},
   "outputs": [
    {
     "name": "stdin",
     "output_type": "stream",
     "text": [
      "Enter comma-separated numbers:  37,7,15,71\n"
     ]
    },
    {
     "name": "stdout",
     "output_type": "stream",
     "text": [
      "['37', '7', '15', '71']\n",
      "('37', '7', '15', '71')\n"
     ]
    }
   ],
   "source": [
    "#33\n",
    "input_numbers = input(\"Enter comma-separated numbers: \")\n",
    "numbers_list = input_numbers.split(',')\n",
    "numbers_tuple = tuple(numbers_list)\n",
    "\n",
    "print(numbers_list)\n",
    "print(numbers_tuple)\n"
   ]
  },
  {
   "cell_type": "code",
   "execution_count": 85,
   "id": "03f6cb09-18df-45e4-b452-ebe929e9d049",
   "metadata": {},
   "outputs": [
    {
     "name": "stdout",
     "output_type": "stream",
     "text": [
      "Enter transactions (type 'STOP' to end):\n"
     ]
    },
    {
     "name": "stdin",
     "output_type": "stream",
     "text": [
      " D 800\n",
      " D 500\n",
      " W 200\n",
      " D 500\n",
      " STOP\n"
     ]
    },
    {
     "name": "stdout",
     "output_type": "stream",
     "text": [
      "Net amount: 1600\n"
     ]
    }
   ],
   "source": [
    "#34\n",
    "net_amount = 0\n",
    "\n",
    "print(\"Enter transactions (type 'STOP' to end):\")\n",
    "while True:\n",
    "    transaction = input()\n",
    "    if transaction == 'STOP':\n",
    "        break\n",
    "    type, amount = transaction.split()\n",
    "    amount = int(amount)\n",
    "    if type == 'D':\n",
    "        net_amount += amount\n",
    "    elif type == 'W':\n",
    "        net_amount -= amount\n",
    "\n",
    "print(\"Net amount:\", net_amount)\n"
   ]
  },
  {
   "cell_type": "code",
   "execution_count": null,
   "id": "60a40e79-4ad6-4ccb-a1e2-7205e5791900",
   "metadata": {},
   "outputs": [],
   "source": []
  }
 ],
 "metadata": {
  "kernelspec": {
   "display_name": "Python 3 (ipykernel)",
   "language": "python",
   "name": "python3"
  },
  "language_info": {
   "codemirror_mode": {
    "name": "ipython",
    "version": 3
   },
   "file_extension": ".py",
   "mimetype": "text/x-python",
   "name": "python",
   "nbconvert_exporter": "python",
   "pygments_lexer": "ipython3",
   "version": "3.12.4"
  }
 },
 "nbformat": 4,
 "nbformat_minor": 5
}
